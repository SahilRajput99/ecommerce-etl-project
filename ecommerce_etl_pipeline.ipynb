{
 "cells": [
  {
   "cell_type": "code",
   "execution_count": 1,
   "id": "cded09e7-7a04-4a1c-bf11-a7533cb48c8b",
   "metadata": {},
   "outputs": [
    {
     "name": "stdout",
     "output_type": "stream",
     "text": [
      "Pandas version: 2.2.2\n",
      "SQLAlchemy version: 2.0.30\n",
      "SQLite3 version: 2.6.0\n"
     ]
    },
    {
     "name": "stderr",
     "output_type": "stream",
     "text": [
      "C:\\Users\\lenovo\\AppData\\Local\\Temp\\ipykernel_13444\\3661269054.py:7: DeprecationWarning: version is deprecated and will be removed in Python 3.14\n",
      "  print(\"SQLite3 version:\", sqlite3.version)\n"
     ]
    }
   ],
   "source": [
    "import pandas as pd\n",
    "import sqlalchemy\n",
    "import sqlite3\n",
    "\n",
    "print(\"Pandas version:\", pd.__version__)\n",
    "print(\"SQLAlchemy version:\", sqlalchemy.__version__)\n",
    "print(\"SQLite3 version:\", sqlite3.version)"
   ]
  },
  {
   "cell_type": "markdown",
   "id": "650220d1-e2bf-4460-97db-8ae697388fbd",
   "metadata": {},
   "source": [
    "# Extract Phase\n",
    "This section loads the e-commerce data from data.csv"
   ]
  },
  {
   "cell_type": "code",
   "execution_count": 2,
   "id": "fd08d372-07ef-43c4-8919-2c8841dfad38",
   "metadata": {},
   "outputs": [
    {
     "name": "stdout",
     "output_type": "stream",
     "text": [
      "Extracted 541909 records from data.csv\n"
     ]
    },
    {
     "data": {
      "text/html": [
       "<div>\n",
       "<style scoped>\n",
       "    .dataframe tbody tr th:only-of-type {\n",
       "        vertical-align: middle;\n",
       "    }\n",
       "\n",
       "    .dataframe tbody tr th {\n",
       "        vertical-align: top;\n",
       "    }\n",
       "\n",
       "    .dataframe thead th {\n",
       "        text-align: right;\n",
       "    }\n",
       "</style>\n",
       "<table border=\"1\" class=\"dataframe\">\n",
       "  <thead>\n",
       "    <tr style=\"text-align: right;\">\n",
       "      <th></th>\n",
       "      <th>InvoiceNo</th>\n",
       "      <th>StockCode</th>\n",
       "      <th>Description</th>\n",
       "      <th>Quantity</th>\n",
       "      <th>InvoiceDate</th>\n",
       "      <th>UnitPrice</th>\n",
       "      <th>CustomerID</th>\n",
       "      <th>Country</th>\n",
       "    </tr>\n",
       "  </thead>\n",
       "  <tbody>\n",
       "    <tr>\n",
       "      <th>0</th>\n",
       "      <td>536365</td>\n",
       "      <td>85123A</td>\n",
       "      <td>WHITE HANGING HEART T-LIGHT HOLDER</td>\n",
       "      <td>6</td>\n",
       "      <td>12/1/2010 8:26</td>\n",
       "      <td>2.55</td>\n",
       "      <td>17850.0</td>\n",
       "      <td>United Kingdom</td>\n",
       "    </tr>\n",
       "    <tr>\n",
       "      <th>1</th>\n",
       "      <td>536365</td>\n",
       "      <td>71053</td>\n",
       "      <td>WHITE METAL LANTERN</td>\n",
       "      <td>6</td>\n",
       "      <td>12/1/2010 8:26</td>\n",
       "      <td>3.39</td>\n",
       "      <td>17850.0</td>\n",
       "      <td>United Kingdom</td>\n",
       "    </tr>\n",
       "    <tr>\n",
       "      <th>2</th>\n",
       "      <td>536365</td>\n",
       "      <td>84406B</td>\n",
       "      <td>CREAM CUPID HEARTS COAT HANGER</td>\n",
       "      <td>8</td>\n",
       "      <td>12/1/2010 8:26</td>\n",
       "      <td>2.75</td>\n",
       "      <td>17850.0</td>\n",
       "      <td>United Kingdom</td>\n",
       "    </tr>\n",
       "    <tr>\n",
       "      <th>3</th>\n",
       "      <td>536365</td>\n",
       "      <td>84029G</td>\n",
       "      <td>KNITTED UNION FLAG HOT WATER BOTTLE</td>\n",
       "      <td>6</td>\n",
       "      <td>12/1/2010 8:26</td>\n",
       "      <td>3.39</td>\n",
       "      <td>17850.0</td>\n",
       "      <td>United Kingdom</td>\n",
       "    </tr>\n",
       "    <tr>\n",
       "      <th>4</th>\n",
       "      <td>536365</td>\n",
       "      <td>84029E</td>\n",
       "      <td>RED WOOLLY HOTTIE WHITE HEART.</td>\n",
       "      <td>6</td>\n",
       "      <td>12/1/2010 8:26</td>\n",
       "      <td>3.39</td>\n",
       "      <td>17850.0</td>\n",
       "      <td>United Kingdom</td>\n",
       "    </tr>\n",
       "  </tbody>\n",
       "</table>\n",
       "</div>"
      ],
      "text/plain": [
       "  InvoiceNo StockCode                          Description  Quantity  \\\n",
       "0    536365    85123A   WHITE HANGING HEART T-LIGHT HOLDER         6   \n",
       "1    536365     71053                  WHITE METAL LANTERN         6   \n",
       "2    536365    84406B       CREAM CUPID HEARTS COAT HANGER         8   \n",
       "3    536365    84029G  KNITTED UNION FLAG HOT WATER BOTTLE         6   \n",
       "4    536365    84029E       RED WOOLLY HOTTIE WHITE HEART.         6   \n",
       "\n",
       "      InvoiceDate  UnitPrice  CustomerID         Country  \n",
       "0  12/1/2010 8:26       2.55     17850.0  United Kingdom  \n",
       "1  12/1/2010 8:26       3.39     17850.0  United Kingdom  \n",
       "2  12/1/2010 8:26       2.75     17850.0  United Kingdom  \n",
       "3  12/1/2010 8:26       3.39     17850.0  United Kingdom  \n",
       "4  12/1/2010 8:26       3.39     17850.0  United Kingdom  "
      ]
     },
     "execution_count": 2,
     "metadata": {},
     "output_type": "execute_result"
    }
   ],
   "source": [
    "# Extract function\n",
    "def extract_data(file_path):\n",
    "    df = pd.read_csv(file_path, encoding='latin1')  # 'latin1' handles special characters\n",
    "    print(f\"Extracted {len(df)} records from {file_path}\")\n",
    "    return df\n",
    "\n",
    "# Run extraction\n",
    "raw_data = extract_data(\"data.csv\")\n",
    "raw_data.head()  # Display first 5 rows"
   ]
  },
  {
   "cell_type": "markdown",
   "id": "02188db1-adc5-447f-a463-751854b98002",
   "metadata": {},
   "source": [
    "# Transform Phase\n",
    "This section cleans the data, adds a TotalPrice column, and creates summaries by product and customer."
   ]
  },
  {
   "cell_type": "code",
   "execution_count": 3,
   "id": "e9198d5c-7295-426a-a7be-30bc74b8f2e4",
   "metadata": {},
   "outputs": [
    {
     "name": "stdout",
     "output_type": "stream",
     "text": [
      "After cleaning, we have 397924 rows (started with 541909)\n"
     ]
    },
    {
     "data": {
      "text/html": [
       "<div>\n",
       "<style scoped>\n",
       "    .dataframe tbody tr th:only-of-type {\n",
       "        vertical-align: middle;\n",
       "    }\n",
       "\n",
       "    .dataframe tbody tr th {\n",
       "        vertical-align: top;\n",
       "    }\n",
       "\n",
       "    .dataframe thead th {\n",
       "        text-align: right;\n",
       "    }\n",
       "</style>\n",
       "<table border=\"1\" class=\"dataframe\">\n",
       "  <thead>\n",
       "    <tr style=\"text-align: right;\">\n",
       "      <th></th>\n",
       "      <th>InvoiceNo</th>\n",
       "      <th>StockCode</th>\n",
       "      <th>Description</th>\n",
       "      <th>Quantity</th>\n",
       "      <th>InvoiceDate</th>\n",
       "      <th>UnitPrice</th>\n",
       "      <th>CustomerID</th>\n",
       "      <th>Country</th>\n",
       "    </tr>\n",
       "  </thead>\n",
       "  <tbody>\n",
       "    <tr>\n",
       "      <th>0</th>\n",
       "      <td>536365</td>\n",
       "      <td>85123A</td>\n",
       "      <td>WHITE HANGING HEART T-LIGHT HOLDER</td>\n",
       "      <td>6</td>\n",
       "      <td>12/1/2010 8:26</td>\n",
       "      <td>2.55</td>\n",
       "      <td>17850.0</td>\n",
       "      <td>United Kingdom</td>\n",
       "    </tr>\n",
       "    <tr>\n",
       "      <th>1</th>\n",
       "      <td>536365</td>\n",
       "      <td>71053</td>\n",
       "      <td>WHITE METAL LANTERN</td>\n",
       "      <td>6</td>\n",
       "      <td>12/1/2010 8:26</td>\n",
       "      <td>3.39</td>\n",
       "      <td>17850.0</td>\n",
       "      <td>United Kingdom</td>\n",
       "    </tr>\n",
       "    <tr>\n",
       "      <th>2</th>\n",
       "      <td>536365</td>\n",
       "      <td>84406B</td>\n",
       "      <td>CREAM CUPID HEARTS COAT HANGER</td>\n",
       "      <td>8</td>\n",
       "      <td>12/1/2010 8:26</td>\n",
       "      <td>2.75</td>\n",
       "      <td>17850.0</td>\n",
       "      <td>United Kingdom</td>\n",
       "    </tr>\n",
       "    <tr>\n",
       "      <th>3</th>\n",
       "      <td>536365</td>\n",
       "      <td>84029G</td>\n",
       "      <td>KNITTED UNION FLAG HOT WATER BOTTLE</td>\n",
       "      <td>6</td>\n",
       "      <td>12/1/2010 8:26</td>\n",
       "      <td>3.39</td>\n",
       "      <td>17850.0</td>\n",
       "      <td>United Kingdom</td>\n",
       "    </tr>\n",
       "    <tr>\n",
       "      <th>4</th>\n",
       "      <td>536365</td>\n",
       "      <td>84029E</td>\n",
       "      <td>RED WOOLLY HOTTIE WHITE HEART.</td>\n",
       "      <td>6</td>\n",
       "      <td>12/1/2010 8:26</td>\n",
       "      <td>3.39</td>\n",
       "      <td>17850.0</td>\n",
       "      <td>United Kingdom</td>\n",
       "    </tr>\n",
       "  </tbody>\n",
       "</table>\n",
       "</div>"
      ],
      "text/plain": [
       "  InvoiceNo StockCode                          Description  Quantity  \\\n",
       "0    536365    85123A   WHITE HANGING HEART T-LIGHT HOLDER         6   \n",
       "1    536365     71053                  WHITE METAL LANTERN         6   \n",
       "2    536365    84406B       CREAM CUPID HEARTS COAT HANGER         8   \n",
       "3    536365    84029G  KNITTED UNION FLAG HOT WATER BOTTLE         6   \n",
       "4    536365    84029E       RED WOOLLY HOTTIE WHITE HEART.         6   \n",
       "\n",
       "      InvoiceDate  UnitPrice  CustomerID         Country  \n",
       "0  12/1/2010 8:26       2.55     17850.0  United Kingdom  \n",
       "1  12/1/2010 8:26       3.39     17850.0  United Kingdom  \n",
       "2  12/1/2010 8:26       2.75     17850.0  United Kingdom  \n",
       "3  12/1/2010 8:26       3.39     17850.0  United Kingdom  \n",
       "4  12/1/2010 8:26       3.39     17850.0  United Kingdom  "
      ]
     },
     "execution_count": 3,
     "metadata": {},
     "output_type": "execute_result"
    }
   ],
   "source": [
    "# First, let’s clean up the data\n",
    "# Remove rows where CustomerID is missing because we need it for customer analysis\n",
    "cleaned_data = raw_data.dropna(subset=['CustomerID'])\n",
    "\n",
    "# Also, filter out negative quantities (like returns) since we want sales only\n",
    "cleaned_data = cleaned_data[cleaned_data['Quantity'] > 0]\n",
    "\n",
    "# Check how many rows we have left\n",
    "print(f\"After cleaning, we have {len(cleaned_data)} rows (started with {len(raw_data)})\")\n",
    "cleaned_data.head()"
   ]
  },
  {
   "cell_type": "code",
   "execution_count": 4,
   "id": "af4eb317-94b8-4290-89b0-d3c0aa8b31e3",
   "metadata": {},
   "outputs": [
    {
     "name": "stdout",
     "output_type": "stream",
     "text": [
      "Sample of InvoiceDate after conversion:\n"
     ]
    },
    {
     "data": {
      "text/html": [
       "<div>\n",
       "<style scoped>\n",
       "    .dataframe tbody tr th:only-of-type {\n",
       "        vertical-align: middle;\n",
       "    }\n",
       "\n",
       "    .dataframe tbody tr th {\n",
       "        vertical-align: top;\n",
       "    }\n",
       "\n",
       "    .dataframe thead th {\n",
       "        text-align: right;\n",
       "    }\n",
       "</style>\n",
       "<table border=\"1\" class=\"dataframe\">\n",
       "  <thead>\n",
       "    <tr style=\"text-align: right;\">\n",
       "      <th></th>\n",
       "      <th>InvoiceDate</th>\n",
       "    </tr>\n",
       "  </thead>\n",
       "  <tbody>\n",
       "    <tr>\n",
       "      <th>0</th>\n",
       "      <td>2010-12-01 08:26:00</td>\n",
       "    </tr>\n",
       "    <tr>\n",
       "      <th>1</th>\n",
       "      <td>2010-12-01 08:26:00</td>\n",
       "    </tr>\n",
       "    <tr>\n",
       "      <th>2</th>\n",
       "      <td>2010-12-01 08:26:00</td>\n",
       "    </tr>\n",
       "    <tr>\n",
       "      <th>3</th>\n",
       "      <td>2010-12-01 08:26:00</td>\n",
       "    </tr>\n",
       "    <tr>\n",
       "      <th>4</th>\n",
       "      <td>2010-12-01 08:26:00</td>\n",
       "    </tr>\n",
       "  </tbody>\n",
       "</table>\n",
       "</div>"
      ],
      "text/plain": [
       "          InvoiceDate\n",
       "0 2010-12-01 08:26:00\n",
       "1 2010-12-01 08:26:00\n",
       "2 2010-12-01 08:26:00\n",
       "3 2010-12-01 08:26:00\n",
       "4 2010-12-01 08:26:00"
      ]
     },
     "metadata": {},
     "output_type": "display_data"
    }
   ],
   "source": [
    "# The InvoiceDate column is text, so let’s make it a proper date\n",
    "cleaned_data['InvoiceDate'] = pd.to_datetime(cleaned_data['InvoiceDate'])\n",
    "\n",
    "# Quick look to make sure it worked\n",
    "print(\"Sample of InvoiceDate after conversion:\")\n",
    "display(cleaned_data[['InvoiceDate']].head())"
   ]
  },
  {
   "cell_type": "code",
   "execution_count": 5,
   "id": "2e6ea54d-2ceb-4e75-a556-89c9379226bc",
   "metadata": {},
   "outputs": [
    {
     "name": "stdout",
     "output_type": "stream",
     "text": [
      "Added TotalPrice column:\n"
     ]
    },
    {
     "data": {
      "text/html": [
       "<div>\n",
       "<style scoped>\n",
       "    .dataframe tbody tr th:only-of-type {\n",
       "        vertical-align: middle;\n",
       "    }\n",
       "\n",
       "    .dataframe tbody tr th {\n",
       "        vertical-align: top;\n",
       "    }\n",
       "\n",
       "    .dataframe thead th {\n",
       "        text-align: right;\n",
       "    }\n",
       "</style>\n",
       "<table border=\"1\" class=\"dataframe\">\n",
       "  <thead>\n",
       "    <tr style=\"text-align: right;\">\n",
       "      <th></th>\n",
       "      <th>Quantity</th>\n",
       "      <th>UnitPrice</th>\n",
       "      <th>TotalPrice</th>\n",
       "    </tr>\n",
       "  </thead>\n",
       "  <tbody>\n",
       "    <tr>\n",
       "      <th>0</th>\n",
       "      <td>6</td>\n",
       "      <td>2.55</td>\n",
       "      <td>15.30</td>\n",
       "    </tr>\n",
       "    <tr>\n",
       "      <th>1</th>\n",
       "      <td>6</td>\n",
       "      <td>3.39</td>\n",
       "      <td>20.34</td>\n",
       "    </tr>\n",
       "    <tr>\n",
       "      <th>2</th>\n",
       "      <td>8</td>\n",
       "      <td>2.75</td>\n",
       "      <td>22.00</td>\n",
       "    </tr>\n",
       "    <tr>\n",
       "      <th>3</th>\n",
       "      <td>6</td>\n",
       "      <td>3.39</td>\n",
       "      <td>20.34</td>\n",
       "    </tr>\n",
       "    <tr>\n",
       "      <th>4</th>\n",
       "      <td>6</td>\n",
       "      <td>3.39</td>\n",
       "      <td>20.34</td>\n",
       "    </tr>\n",
       "  </tbody>\n",
       "</table>\n",
       "</div>"
      ],
      "text/plain": [
       "   Quantity  UnitPrice  TotalPrice\n",
       "0         6       2.55       15.30\n",
       "1         6       3.39       20.34\n",
       "2         8       2.75       22.00\n",
       "3         6       3.39       20.34\n",
       "4         6       3.39       20.34"
      ]
     },
     "metadata": {},
     "output_type": "display_data"
    }
   ],
   "source": [
    "# Let’s calculate the total price for each transaction\n",
    "cleaned_data['TotalPrice'] = cleaned_data['Quantity'] * cleaned_data['UnitPrice']\n",
    "\n",
    "# Check a few rows to see the new column\n",
    "print(\"Added TotalPrice column:\")\n",
    "display(cleaned_data[['Quantity', 'UnitPrice', 'TotalPrice']].head())"
   ]
  },
  {
   "cell_type": "code",
   "execution_count": 7,
   "id": "8794d2b0-7767-4c8a-9743-1c9e9b1f2af1",
   "metadata": {},
   "outputs": [
    {
     "name": "stdout",
     "output_type": "stream",
     "text": [
      "Top products by TotalPrice:\n"
     ]
    },
    {
     "data": {
      "text/html": [
       "<div>\n",
       "<style scoped>\n",
       "    .dataframe tbody tr th:only-of-type {\n",
       "        vertical-align: middle;\n",
       "    }\n",
       "\n",
       "    .dataframe tbody tr th {\n",
       "        vertical-align: top;\n",
       "    }\n",
       "\n",
       "    .dataframe thead th {\n",
       "        text-align: right;\n",
       "    }\n",
       "</style>\n",
       "<table border=\"1\" class=\"dataframe\">\n",
       "  <thead>\n",
       "    <tr style=\"text-align: right;\">\n",
       "      <th></th>\n",
       "      <th>Description</th>\n",
       "      <th>TotalQuantity</th>\n",
       "      <th>TotalPrice</th>\n",
       "    </tr>\n",
       "  </thead>\n",
       "  <tbody>\n",
       "    <tr>\n",
       "      <th>2319</th>\n",
       "      <td>PAPER CRAFT , LITTLE BIRDIE</td>\n",
       "      <td>80995</td>\n",
       "      <td>168469.60</td>\n",
       "    </tr>\n",
       "    <tr>\n",
       "      <th>2767</th>\n",
       "      <td>REGENCY CAKESTAND 3 TIER</td>\n",
       "      <td>12412</td>\n",
       "      <td>142592.95</td>\n",
       "    </tr>\n",
       "    <tr>\n",
       "      <th>3698</th>\n",
       "      <td>WHITE HANGING HEART T-LIGHT HOLDER</td>\n",
       "      <td>36725</td>\n",
       "      <td>100448.15</td>\n",
       "    </tr>\n",
       "    <tr>\n",
       "      <th>1762</th>\n",
       "      <td>JUMBO BAG RED RETROSPOT</td>\n",
       "      <td>46181</td>\n",
       "      <td>85220.78</td>\n",
       "    </tr>\n",
       "    <tr>\n",
       "      <th>1992</th>\n",
       "      <td>MEDIUM CERAMIC TOP STORAGE JAR</td>\n",
       "      <td>77916</td>\n",
       "      <td>81416.73</td>\n",
       "    </tr>\n",
       "  </tbody>\n",
       "</table>\n",
       "</div>"
      ],
      "text/plain": [
       "                             Description  TotalQuantity  TotalPrice\n",
       "2319         PAPER CRAFT , LITTLE BIRDIE          80995   168469.60\n",
       "2767            REGENCY CAKESTAND 3 TIER          12412   142592.95\n",
       "3698  WHITE HANGING HEART T-LIGHT HOLDER          36725   100448.15\n",
       "1762             JUMBO BAG RED RETROSPOT          46181    85220.78\n",
       "1992      MEDIUM CERAMIC TOP STORAGE JAR          77916    81416.73"
      ]
     },
     "metadata": {},
     "output_type": "display_data"
    }
   ],
   "source": [
    "# Now, let’s see which products sold the most\n",
    "product_summary = cleaned_data.groupby('Description').sum(numeric_only=True)[['Quantity', 'TotalPrice']]\n",
    "\n",
    "# Rename Quantity to TotalQuantity to be clear\n",
    "product_summary = product_summary.rename(columns={'Quantity': 'TotalQuantity'})\n",
    "\n",
    "# Reset the index so Description isn’t the index\n",
    "product_summary = product_summary.reset_index()\n",
    "\n",
    "# Look at the top 5 products by total price\n",
    "print(\"Top products by TotalPrice:\")\n",
    "display(product_summary.sort_values('TotalPrice', ascending=False).head())"
   ]
  },
  {
   "cell_type": "code",
   "execution_count": 8,
   "id": "9c60ca02-19ff-4c1a-9d59-8371d6c08bde",
   "metadata": {},
   "outputs": [
    {
     "name": "stdout",
     "output_type": "stream",
     "text": [
      "Top customers by TotalPrice:\n"
     ]
    },
    {
     "data": {
      "text/html": [
       "<div>\n",
       "<style scoped>\n",
       "    .dataframe tbody tr th:only-of-type {\n",
       "        vertical-align: middle;\n",
       "    }\n",
       "\n",
       "    .dataframe tbody tr th {\n",
       "        vertical-align: top;\n",
       "    }\n",
       "\n",
       "    .dataframe thead th {\n",
       "        text-align: right;\n",
       "    }\n",
       "</style>\n",
       "<table border=\"1\" class=\"dataframe\">\n",
       "  <thead>\n",
       "    <tr style=\"text-align: right;\">\n",
       "      <th></th>\n",
       "      <th>CustomerID</th>\n",
       "      <th>TotalPrice</th>\n",
       "      <th>OrderCount</th>\n",
       "    </tr>\n",
       "  </thead>\n",
       "  <tbody>\n",
       "    <tr>\n",
       "      <th>1690</th>\n",
       "      <td>14646.0</td>\n",
       "      <td>280206.02</td>\n",
       "      <td>74</td>\n",
       "    </tr>\n",
       "    <tr>\n",
       "      <th>4202</th>\n",
       "      <td>18102.0</td>\n",
       "      <td>259657.30</td>\n",
       "      <td>60</td>\n",
       "    </tr>\n",
       "    <tr>\n",
       "      <th>3729</th>\n",
       "      <td>17450.0</td>\n",
       "      <td>194550.79</td>\n",
       "      <td>46</td>\n",
       "    </tr>\n",
       "    <tr>\n",
       "      <th>3009</th>\n",
       "      <td>16446.0</td>\n",
       "      <td>168472.50</td>\n",
       "      <td>2</td>\n",
       "    </tr>\n",
       "    <tr>\n",
       "      <th>1880</th>\n",
       "      <td>14911.0</td>\n",
       "      <td>143825.06</td>\n",
       "      <td>201</td>\n",
       "    </tr>\n",
       "  </tbody>\n",
       "</table>\n",
       "</div>"
      ],
      "text/plain": [
       "      CustomerID  TotalPrice  OrderCount\n",
       "1690     14646.0   280206.02          74\n",
       "4202     18102.0   259657.30          60\n",
       "3729     17450.0   194550.79          46\n",
       "3009     16446.0   168472.50           2\n",
       "1880     14911.0   143825.06         201"
      ]
     },
     "metadata": {},
     "output_type": "display_data"
    }
   ],
   "source": [
    "# Let’s figure out customer spending and order counts\n",
    "customer_summary = cleaned_data.groupby('CustomerID').agg({\n",
    "    'TotalPrice': 'sum',        # Total spending per customer\n",
    "    'InvoiceNo': 'nunique'      # Number of unique orders\n",
    "})\n",
    "\n",
    "# Rename InvoiceNo to OrderCount\n",
    "customer_summary = customer_summary.rename(columns={'InvoiceNo': 'OrderCount'})\n",
    "\n",
    "# Reset index to make CustomerID a column\n",
    "customer_summary = customer_summary.reset_index()\n",
    "\n",
    "# Show top 5 customers by spending\n",
    "print(\"Top customers by TotalPrice:\")\n",
    "display(customer_summary.sort_values('TotalPrice', ascending=False).head())"
   ]
  },
  {
   "cell_type": "markdown",
   "id": "438930a4-444f-4058-8e82-9a4845eee2f3",
   "metadata": {},
   "source": [
    "# Load Phase\n",
    "Time to save my cleaned and summarized data into a database!"
   ]
  },
  {
   "cell_type": "code",
   "execution_count": 9,
   "id": "dbbdc9b3-cbe2-4d40-8616-663a1f42dea6",
   "metadata": {},
   "outputs": [
    {
     "name": "stdout",
     "output_type": "stream",
     "text": [
      "Saved everything to ecommerce.db!\n"
     ]
    }
   ],
   "source": [
    "# Import the database tool\n",
    "from sqlalchemy import create_engine\n",
    "\n",
    "# Create a database file\n",
    "engine = create_engine('sqlite:///ecommerce.db')\n",
    "\n",
    "# Save my tables\n",
    "cleaned_data.to_sql('transactions', engine, if_exists='replace', index=False)\n",
    "product_summary.to_sql('product_sales', engine, if_exists='replace', index=False)\n",
    "customer_summary.to_sql('customer_sales', engine, if_exists='replace', index=False)\n",
    "\n",
    "print(\"Saved everything to ecommerce.db!\")"
   ]
  },
  {
   "cell_type": "markdown",
   "id": "5a57d117-7cf5-4734-86e8-e1bf72a67875",
   "metadata": {},
   "source": [
    "# Quick Analysis\n",
    "chart to see which products are the best sellers!"
   ]
  },
  {
   "cell_type": "code",
   "execution_count": 10,
   "id": "4357dbae-fca9-4208-920c-80121b75e97a",
   "metadata": {},
   "outputs": [],
   "source": [
    "# Let’s visualize the top 10 products by sales\n",
    "import matplotlib.pyplot as plt"
   ]
  },
  {
   "cell_type": "code",
   "execution_count": 11,
   "id": "3041ff2f-b0d6-47d3-8b50-12131af867c7",
   "metadata": {},
   "outputs": [],
   "source": [
    "# Pick the top 10 products by TotalPrice\n",
    "top_products = product_summary.sort_values('TotalPrice', ascending=False).head(10)"
   ]
  },
  {
   "cell_type": "code",
   "execution_count": 13,
   "id": "5bfe53e4-a4d4-4cee-a914-32bcbc66b166",
   "metadata": {},
   "outputs": [
    {
     "data": {
      "image/png": "[encoded data removed]",
      "text/plain": [
       "<Figure size 1000x600 with 1 Axes>"
      ]
     },
     "metadata": {},
     "output_type": "display_data"
    }
   ],
   "source": [
    "# horizontal bar chart\n",
    "plt.figure(figsize=(10, 6))  # Bigger size so names fit\n",
    "plt.barh(top_products['Description'], top_products['TotalPrice'], color='lightgreen')\n",
    "plt.xlabel('Total Sales (£)')\n",
    "plt.ylabel('Product Name')\n",
    "plt.title('Top 10 Best-Selling Products')\n",
    "plt.tight_layout()  # Avoid cutting off labels\n",
    "\n",
    "# Show it\n",
    "plt.show()"
   ]
  },
  {
   "cell_type": "code",
   "execution_count": 14,
   "id": "b97afce1-dc6b-4102-8012-f57bb0c96a2b",
   "metadata": {},
   "outputs": [
    {
     "name": "stdout",
     "output_type": "stream",
     "text": [
      "Chart saved as top_products.png!\n"
     ]
    },
    {
     "data": {
      "text/plain": [
       "<Figure size 640x480 with 0 Axes>"
      ]
     },
     "metadata": {},
     "output_type": "display_data"
    }
   ],
   "source": [
    "# save image\n",
    "plt.savefig('top_products.png')\n",
    "print(\"Chart saved as top_products.png!\")"
   ]
  },
  {
   "cell_type": "code",
   "execution_count": 15,
   "id": "d1876cc3-83e7-4c5f-aad4-080c45ebb7f1",
   "metadata": {},
   "outputs": [],
   "source": [
    "# Let’s look at a few rows from the database\n",
    "import sqlite3"
   ]
  },
  {
   "cell_type": "code",
   "execution_count": 16,
   "id": "96562b3a-92e0-4bd5-a7e8-1f7def2b5487",
   "metadata": {},
   "outputs": [],
   "source": [
    "# Connect to the database\n",
    "conn = sqlite3.connect('ecommerce.db')"
   ]
  },
  {
   "cell_type": "code",
   "execution_count": 17,
   "id": "cb2b4801-1d1a-4599-930f-084c5066c6ca",
   "metadata": {},
   "outputs": [
    {
     "name": "stdout",
     "output_type": "stream",
     "text": [
      "Sample from transactions table:\n"
     ]
    },
    {
     "data": {
      "text/html": [
       "<div>\n",
       "<style scoped>\n",
       "    .dataframe tbody tr th:only-of-type {\n",
       "        vertical-align: middle;\n",
       "    }\n",
       "\n",
       "    .dataframe tbody tr th {\n",
       "        vertical-align: top;\n",
       "    }\n",
       "\n",
       "    .dataframe thead th {\n",
       "        text-align: right;\n",
       "    }\n",
       "</style>\n",
       "<table border=\"1\" class=\"dataframe\">\n",
       "  <thead>\n",
       "    <tr style=\"text-align: right;\">\n",
       "      <th></th>\n",
       "      <th>InvoiceNo</th>\n",
       "      <th>StockCode</th>\n",
       "      <th>Description</th>\n",
       "      <th>Quantity</th>\n",
       "      <th>InvoiceDate</th>\n",
       "      <th>UnitPrice</th>\n",
       "      <th>CustomerID</th>\n",
       "      <th>Country</th>\n",
       "      <th>TotalPrice</th>\n",
       "    </tr>\n",
       "  </thead>\n",
       "  <tbody>\n",
       "    <tr>\n",
       "      <th>0</th>\n",
       "      <td>536365</td>\n",
       "      <td>85123A</td>\n",
       "      <td>WHITE HANGING HEART T-LIGHT HOLDER</td>\n",
       "      <td>6</td>\n",
       "      <td>2010-12-01 08:26:00.000000</td>\n",
       "      <td>2.55</td>\n",
       "      <td>17850.0</td>\n",
       "      <td>United Kingdom</td>\n",
       "      <td>15.30</td>\n",
       "    </tr>\n",
       "    <tr>\n",
       "      <th>1</th>\n",
       "      <td>536365</td>\n",
       "      <td>71053</td>\n",
       "      <td>WHITE METAL LANTERN</td>\n",
       "      <td>6</td>\n",
       "      <td>2010-12-01 08:26:00.000000</td>\n",
       "      <td>3.39</td>\n",
       "      <td>17850.0</td>\n",
       "      <td>United Kingdom</td>\n",
       "      <td>20.34</td>\n",
       "    </tr>\n",
       "    <tr>\n",
       "      <th>2</th>\n",
       "      <td>536365</td>\n",
       "      <td>84406B</td>\n",
       "      <td>CREAM CUPID HEARTS COAT HANGER</td>\n",
       "      <td>8</td>\n",
       "      <td>2010-12-01 08:26:00.000000</td>\n",
       "      <td>2.75</td>\n",
       "      <td>17850.0</td>\n",
       "      <td>United Kingdom</td>\n",
       "      <td>22.00</td>\n",
       "    </tr>\n",
       "    <tr>\n",
       "      <th>3</th>\n",
       "      <td>536365</td>\n",
       "      <td>84029G</td>\n",
       "      <td>KNITTED UNION FLAG HOT WATER BOTTLE</td>\n",
       "      <td>6</td>\n",
       "      <td>2010-12-01 08:26:00.000000</td>\n",
       "      <td>3.39</td>\n",
       "      <td>17850.0</td>\n",
       "      <td>United Kingdom</td>\n",
       "      <td>20.34</td>\n",
       "    </tr>\n",
       "    <tr>\n",
       "      <th>4</th>\n",
       "      <td>536365</td>\n",
       "      <td>84029E</td>\n",
       "      <td>RED WOOLLY HOTTIE WHITE HEART.</td>\n",
       "      <td>6</td>\n",
       "      <td>2010-12-01 08:26:00.000000</td>\n",
       "      <td>3.39</td>\n",
       "      <td>17850.0</td>\n",
       "      <td>United Kingdom</td>\n",
       "      <td>20.34</td>\n",
       "    </tr>\n",
       "  </tbody>\n",
       "</table>\n",
       "</div>"
      ],
      "text/plain": [
       "  InvoiceNo StockCode                          Description  Quantity  \\\n",
       "0    536365    85123A   WHITE HANGING HEART T-LIGHT HOLDER         6   \n",
       "1    536365     71053                  WHITE METAL LANTERN         6   \n",
       "2    536365    84406B       CREAM CUPID HEARTS COAT HANGER         8   \n",
       "3    536365    84029G  KNITTED UNION FLAG HOT WATER BOTTLE         6   \n",
       "4    536365    84029E       RED WOOLLY HOTTIE WHITE HEART.         6   \n",
       "\n",
       "                  InvoiceDate  UnitPrice  CustomerID         Country  \\\n",
       "0  2010-12-01 08:26:00.000000       2.55     17850.0  United Kingdom   \n",
       "1  2010-12-01 08:26:00.000000       3.39     17850.0  United Kingdom   \n",
       "2  2010-12-01 08:26:00.000000       2.75     17850.0  United Kingdom   \n",
       "3  2010-12-01 08:26:00.000000       3.39     17850.0  United Kingdom   \n",
       "4  2010-12-01 08:26:00.000000       3.39     17850.0  United Kingdom   \n",
       "\n",
       "   TotalPrice  \n",
       "0       15.30  \n",
       "1       20.34  \n",
       "2       22.00  \n",
       "3       20.34  \n",
       "4       20.34  "
      ]
     },
     "metadata": {},
     "output_type": "display_data"
    }
   ],
   "source": [
    "# Check the transactions table\n",
    "test_transactions = pd.read_sql(\"SELECT * FROM transactions LIMIT 5\", conn)\n",
    "print(\"Sample from transactions table:\")\n",
    "display(test_transactions)\n",
    "\n",
    "# Close the connection\n",
    "conn.close()"
   ]
  },
  {
   "cell_type": "markdown",
   "id": "503a7fba-9645-4780-85c7-a9c8cea6b25d",
   "metadata": {},
   "source": [
    "# Project Summary\n",
    "Here’s what I did in this e-commerce ETL project:\n",
    "- **Extract**: Loaded sales data from data.csv (541,909 rows).\n",
    "- **Transform**: Cleaned it to 397,924 rows (removed missing CustomerIDs and returns), added TotalPrice, and summarized by product and customer.\n",
    "- **Load**: Saved everything to a SQLite database (ecommerce.db) with three tables: transactions, product_sales, customer_sales.\n",
    "- **Analysis**: Made a chart of the top 10 products by sales."
   ]
  },
  {
   "cell_type": "code",
   "execution_count": null,
   "id": "ae0a744c-fa30-4047-a6bc-d11b6b6d628e",
   "metadata": {},
   "outputs": [],
   "source": []
  }
 ],
 "metadata": {
  "kernelspec": {
   "display_name": "Python 3 (ipykernel)",
   "language": "python",
   "name": "python3"
  },
  "language_info": {
   "codemirror_mode": {
    "name": "ipython",
    "version": 3
   },
   "file_extension": ".py",
   "mimetype": "text/x-python",
   "name": "python",
   "nbconvert_exporter": "python",
   "pygments_lexer": "ipython3",
   "version": "3.12.4"
  }
 },
 "nbformat": 4,
 "nbformat_minor": 5
}
